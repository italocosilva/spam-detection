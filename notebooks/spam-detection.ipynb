{
 "cells": [
  {
   "cell_type": "code",
   "execution_count": 1,
   "metadata": {},
   "outputs": [],
   "source": [
    "import os\n",
    "os.environ['TF_CPP_MIN_LOG_LEVEL'] = '3'\n",
    "\n",
    "import pandas as pd\n",
    "from tensorflow.keras.preprocessing.text import Tokenizer\n",
    "from tensorflow.keras.preprocessing.sequence import pad_sequences\n",
    "from tensorflow.keras import layers, Model\n",
    "from sklearn.model_selection import train_test_split\n",
    "import numpy as np\n",
    "from scipy.spatial.distance import cdist\n",
    "import seaborn as sns"
   ]
  },
  {
   "cell_type": "markdown",
   "metadata": {},
   "source": [
    "## Load data"
   ]
  },
  {
   "cell_type": "code",
   "execution_count": 2,
   "metadata": {},
   "outputs": [],
   "source": [
    "df = pd.read_csv('../data/spam.csv', encoding='ISO-8859-1')\n",
    "df['is_spam'] = df['v1'].apply(lambda x: 1 if x == 'spam' else 0)\n",
    "df.drop(columns=['Unnamed: 2', 'Unnamed: 3', 'Unnamed: 4', 'v1'], inplace=True)\n",
    "df.rename(columns={'v2': 'sentence'}, inplace=True)"
   ]
  },
  {
   "cell_type": "code",
   "execution_count": 3,
   "metadata": {},
   "outputs": [
    {
     "data": {
      "text/html": [
       "<div>\n",
       "<style scoped>\n",
       "    .dataframe tbody tr th:only-of-type {\n",
       "        vertical-align: middle;\n",
       "    }\n",
       "\n",
       "    .dataframe tbody tr th {\n",
       "        vertical-align: top;\n",
       "    }\n",
       "\n",
       "    .dataframe thead th {\n",
       "        text-align: right;\n",
       "    }\n",
       "</style>\n",
       "<table border=\"1\" class=\"dataframe\">\n",
       "  <thead>\n",
       "    <tr style=\"text-align: right;\">\n",
       "      <th></th>\n",
       "      <th>sentence</th>\n",
       "      <th>is_spam</th>\n",
       "    </tr>\n",
       "  </thead>\n",
       "  <tbody>\n",
       "    <tr>\n",
       "      <th>0</th>\n",
       "      <td>Go until jurong point, crazy.. Available only ...</td>\n",
       "      <td>0</td>\n",
       "    </tr>\n",
       "    <tr>\n",
       "      <th>1</th>\n",
       "      <td>Ok lar... Joking wif u oni...</td>\n",
       "      <td>0</td>\n",
       "    </tr>\n",
       "    <tr>\n",
       "      <th>2</th>\n",
       "      <td>Free entry in 2 a wkly comp to win FA Cup fina...</td>\n",
       "      <td>1</td>\n",
       "    </tr>\n",
       "    <tr>\n",
       "      <th>3</th>\n",
       "      <td>U dun say so early hor... U c already then say...</td>\n",
       "      <td>0</td>\n",
       "    </tr>\n",
       "    <tr>\n",
       "      <th>4</th>\n",
       "      <td>Nah I don't think he goes to usf, he lives aro...</td>\n",
       "      <td>0</td>\n",
       "    </tr>\n",
       "  </tbody>\n",
       "</table>\n",
       "</div>"
      ],
      "text/plain": [
       "                                            sentence  is_spam\n",
       "0  Go until jurong point, crazy.. Available only ...        0\n",
       "1                      Ok lar... Joking wif u oni...        0\n",
       "2  Free entry in 2 a wkly comp to win FA Cup fina...        1\n",
       "3  U dun say so early hor... U c already then say...        0\n",
       "4  Nah I don't think he goes to usf, he lives aro...        0"
      ]
     },
     "execution_count": 3,
     "metadata": {},
     "output_type": "execute_result"
    }
   ],
   "source": [
    "df.head()"
   ]
  },
  {
   "cell_type": "markdown",
   "metadata": {},
   "source": [
    "## Train test split"
   ]
  },
  {
   "cell_type": "code",
   "execution_count": 4,
   "metadata": {},
   "outputs": [],
   "source": [
    "df_train, df_test = train_test_split(df, test_size=0.33, random_state=23)"
   ]
  },
  {
   "cell_type": "markdown",
   "metadata": {},
   "source": [
    "## Tokenize"
   ]
  },
  {
   "cell_type": "code",
   "execution_count": 5,
   "metadata": {},
   "outputs": [],
   "source": [
    "tokenizer = Tokenizer(num_words=20_000)\n",
    "tokenizer.fit_on_texts(df_train['sentence'])"
   ]
  },
  {
   "cell_type": "code",
   "execution_count": 6,
   "metadata": {},
   "outputs": [
    {
     "data": {
      "text/plain": [
       "7271"
      ]
     },
     "execution_count": 6,
     "metadata": {},
     "output_type": "execute_result"
    }
   ],
   "source": [
    "len(tokenizer.word_index)"
   ]
  },
  {
   "cell_type": "code",
   "execution_count": 7,
   "metadata": {},
   "outputs": [],
   "source": [
    "df_train['sequence'] = tokenizer.texts_to_sequences(df_train['sentence'])\n",
    "df_test['sequence'] = tokenizer.texts_to_sequences(df_test['sentence'])"
   ]
  },
  {
   "cell_type": "markdown",
   "metadata": {},
   "source": [
    "## Padding"
   ]
  },
  {
   "cell_type": "code",
   "execution_count": 8,
   "metadata": {},
   "outputs": [
    {
     "data": {
      "text/plain": [
       "(3733, 189)"
      ]
     },
     "execution_count": 8,
     "metadata": {},
     "output_type": "execute_result"
    }
   ],
   "source": [
    "np.shape(pad_sequences(df_train['sequence']))"
   ]
  },
  {
   "cell_type": "code",
   "execution_count": 9,
   "metadata": {},
   "outputs": [
    {
     "name": "stdout",
     "output_type": "stream",
     "text": [
      "Max seq on train: 189    Min seq on train: 1\n",
      "Expected shape lenght after padding: (3733, 189)\n",
      "df_train shape: (3733, 3)\n",
      "data_train shape: (3733, 189)\n",
      "Max seq on test: 157    Min seq on test: 0\n",
      "data_test shape: (1839, 189)\n"
     ]
    }
   ],
   "source": [
    "# Check lengths before padding on train, pad and recheck\n",
    "print(f\"Max seq on train: {df_train['sequence'].apply(len).max()}    Min seq on train: {df_train['sequence'].apply(len).min()}\")\n",
    "print(f\"Expected shape lenght after padding: {pad_sequences(df_train['sequence']).shape}\")\n",
    "print(f\"df_train shape: {df_train.shape}\")\n",
    "data_train = pad_sequences(df_train['sequence'])\n",
    "print(f\"data_train shape: {np.shape(data_train)}\")\n",
    "\n",
    "# Set max length based on train\n",
    "MAX_LENGTH = df_train['sequence'].apply(len).max()\n",
    "\n",
    "# Check lengths before padding on test, pad and recheck\n",
    "print(f\"Max seq on test: {df_test['sequence'].apply(len).max()}    Min seq on test: {df_test['sequence'].apply(len).min()}\")\n",
    "data_test = pad_sequences(df_test['sequence'], maxlen=MAX_LENGTH)\n",
    "print(f\"data_test shape: {np.shape(data_test)}\")"
   ]
  },
  {
   "cell_type": "markdown",
   "metadata": {},
   "source": [
    "## Create LSTM"
   ]
  },
  {
   "cell_type": "code",
   "execution_count": 10,
   "metadata": {},
   "outputs": [],
   "source": [
    "i = layers.Input(shape=(MAX_LENGTH, ))\n",
    "x = layers.Embedding(input_dim=len(tokenizer.word_index) + 1, output_dim=8)(i)\n",
    "x = layers.LSTM(128, return_sequences=True)(x)\n",
    "x = layers.GlobalMaxPool1D()(x)\n",
    "x = layers.Dense(1, activation='sigmoid')(x)"
   ]
  },
  {
   "cell_type": "code",
   "execution_count": 11,
   "metadata": {},
   "outputs": [],
   "source": [
    "model = Model(i, x)\n",
    "model.compile(loss='binary_crossentropy', optimizer='adam', metrics=['acc'])"
   ]
  },
  {
   "cell_type": "markdown",
   "metadata": {},
   "source": [
    "## Train"
   ]
  },
  {
   "cell_type": "code",
   "execution_count": 12,
   "metadata": {},
   "outputs": [
    {
     "name": "stdout",
     "output_type": "stream",
     "text": [
      "Epoch 1/10\n",
      "117/117 [==============================] - 14s 99ms/step - loss: 0.4335 - acc: 0.8527 - val_loss: 0.3696 - val_acc: 0.8787\n",
      "Epoch 2/10\n",
      "117/117 [==============================] - 6s 54ms/step - loss: 0.3895 - acc: 0.8596 - val_loss: 0.3282 - val_acc: 0.8787\n",
      "Epoch 3/10\n",
      "117/117 [==============================] - 5s 44ms/step - loss: 0.1990 - acc: 0.9237 - val_loss: 0.1109 - val_acc: 0.9630\n",
      "Epoch 4/10\n",
      "117/117 [==============================] - 4s 34ms/step - loss: 0.0482 - acc: 0.9882 - val_loss: 0.0489 - val_acc: 0.9869\n",
      "Epoch 5/10\n",
      "117/117 [==============================] - 4s 31ms/step - loss: 0.0256 - acc: 0.9925 - val_loss: 0.0477 - val_acc: 0.9897\n",
      "Epoch 6/10\n",
      "117/117 [==============================] - 3s 29ms/step - loss: 0.0181 - acc: 0.9949 - val_loss: 0.0478 - val_acc: 0.9886\n",
      "Epoch 7/10\n",
      "117/117 [==============================] - 3s 28ms/step - loss: 0.0111 - acc: 0.9968 - val_loss: 0.0488 - val_acc: 0.9880\n",
      "Epoch 8/10\n",
      "117/117 [==============================] - 3s 28ms/step - loss: 0.0102 - acc: 0.9976 - val_loss: 0.0814 - val_acc: 0.9782\n",
      "Epoch 9/10\n",
      "117/117 [==============================] - 3s 28ms/step - loss: 0.0088 - acc: 0.9981 - val_loss: 0.0535 - val_acc: 0.9886\n",
      "Epoch 10/10\n",
      "117/117 [==============================] - 3s 25ms/step - loss: 0.0040 - acc: 0.9995 - val_loss: 0.0567 - val_acc: 0.9864\n"
     ]
    }
   ],
   "source": [
    "r = model.fit(data_train, df_train['is_spam'], epochs=10, validation_data=(data_test, df_test['is_spam']))"
   ]
  },
  {
   "cell_type": "code",
   "execution_count": 13,
   "metadata": {},
   "outputs": [
    {
     "data": {
      "image/png": "[encoded data removed]",
      "text/plain": [
       "<Figure size 640x480 with 1 Axes>"
      ]
     },
     "metadata": {},
     "output_type": "display_data"
    }
   ],
   "source": [
    "pd.DataFrame(r.history).plot();"
   ]
  },
  {
   "cell_type": "code",
   "execution_count": 14,
   "metadata": {},
   "outputs": [
    {
     "name": "stdout",
     "output_type": "stream",
     "text": [
      "Model: \"model\"\n",
      "_________________________________________________________________\n",
      " Layer (type)                Output Shape              Param #   \n",
      "=================================================================\n",
      " input_1 (InputLayer)        [(None, 189)]             0         \n",
      "                                                                 \n",
      " embedding (Embedding)       (None, 189, 8)            58176     \n",
      "                                                                 \n",
      " lstm (LSTM)                 (None, 189, 128)          70144     \n",
      "                                                                 \n",
      " global_max_pooling1d (Glob  (None, 128)               0         \n",
      " alMaxPooling1D)                                                 \n",
      "                                                                 \n",
      " dense (Dense)               (None, 1)                 129       \n",
      "                                                                 \n",
      "=================================================================\n",
      "Total params: 128449 (501.75 KB)\n",
      "Trainable params: 128449 (501.75 KB)\n",
      "Non-trainable params: 0 (0.00 Byte)\n",
      "_________________________________________________________________\n"
     ]
    }
   ],
   "source": [
    "model.summary()"
   ]
  },
  {
   "cell_type": "markdown",
   "metadata": {},
   "source": [
    "## Train v2"
   ]
  },
  {
   "cell_type": "code",
   "execution_count": 15,
   "metadata": {},
   "outputs": [],
   "source": [
    "i = layers.Input(shape=(MAX_LENGTH, ))\n",
    "x = layers.Embedding(input_dim=len(tokenizer.word_index) + 1, output_dim=8)(i)\n",
    "x = layers.LSTM(128, return_sequences=False)(x)\n",
    "#x = layers.GlobalMaxPool1D()(x)\n",
    "x = layers.Dense(1, activation='sigmoid')(x)"
   ]
  },
  {
   "cell_type": "code",
   "execution_count": 16,
   "metadata": {},
   "outputs": [],
   "source": [
    "model = Model(i, x)\n",
    "model.compile(loss='binary_crossentropy', optimizer='adam', metrics=['acc'])"
   ]
  },
  {
   "cell_type": "code",
   "execution_count": 17,
   "metadata": {},
   "outputs": [
    {
     "name": "stdout",
     "output_type": "stream",
     "text": [
      "Epoch 1/10\n"
     ]
    },
    {
     "name": "stdout",
     "output_type": "stream",
     "text": [
      "117/117 [==============================] - 10s 75ms/step - loss: 0.3092 - acc: 0.8942 - val_loss: 0.1165 - val_acc: 0.9744\n",
      "Epoch 2/10\n",
      "117/117 [==============================] - 5s 46ms/step - loss: 0.0637 - acc: 0.9829 - val_loss: 0.0500 - val_acc: 0.9848\n",
      "Epoch 3/10\n",
      "117/117 [==============================] - 5s 38ms/step - loss: 0.0343 - acc: 0.9904 - val_loss: 0.0484 - val_acc: 0.9875\n",
      "Epoch 4/10\n",
      "117/117 [==============================] - 3s 30ms/step - loss: 0.0178 - acc: 0.9952 - val_loss: 0.0546 - val_acc: 0.9875\n",
      "Epoch 5/10\n",
      "117/117 [==============================] - 3s 29ms/step - loss: 0.0094 - acc: 0.9976 - val_loss: 0.0651 - val_acc: 0.9848\n",
      "Epoch 6/10\n",
      "117/117 [==============================] - 4s 30ms/step - loss: 0.0058 - acc: 0.9989 - val_loss: 0.0613 - val_acc: 0.9875\n",
      "Epoch 7/10\n",
      "117/117 [==============================] - 3s 26ms/step - loss: 0.0044 - acc: 0.9987 - val_loss: 0.0516 - val_acc: 0.9880\n",
      "Epoch 8/10\n",
      "117/117 [==============================] - 3s 27ms/step - loss: 0.0106 - acc: 0.9979 - val_loss: 0.0461 - val_acc: 0.9897\n",
      "Epoch 9/10\n",
      "117/117 [==============================] - 3s 28ms/step - loss: 0.0039 - acc: 0.9992 - val_loss: 0.0441 - val_acc: 0.9902\n",
      "Epoch 10/10\n",
      "117/117 [==============================] - 3s 29ms/step - loss: 0.0151 - acc: 0.9981 - val_loss: 0.0458 - val_acc: 0.9897\n"
     ]
    }
   ],
   "source": [
    "r = model.fit(data_train, df_train['is_spam'], epochs=10, validation_data=(data_test, df_test['is_spam']))"
   ]
  },
  {
   "cell_type": "code",
   "execution_count": 18,
   "metadata": {},
   "outputs": [
    {
     "data": {
      "image/png": "[encoded data removed]",
      "text/plain": [
       "<Figure size 640x480 with 1 Axes>"
      ]
     },
     "metadata": {},
     "output_type": "display_data"
    }
   ],
   "source": [
    "pd.DataFrame(r.history).plot();"
   ]
  },
  {
   "cell_type": "code",
   "execution_count": 19,
   "metadata": {},
   "outputs": [
    {
     "name": "stdout",
     "output_type": "stream",
     "text": [
      "Model: \"model_1\"\n",
      "_________________________________________________________________\n",
      " Layer (type)                Output Shape              Param #   \n",
      "=================================================================\n",
      " input_2 (InputLayer)        [(None, 189)]             0         \n",
      "                                                                 \n",
      " embedding_1 (Embedding)     (None, 189, 8)            58176     \n",
      "                                                                 \n",
      " lstm_1 (LSTM)               (None, 128)               70144     \n",
      "                                                                 \n",
      " dense_1 (Dense)             (None, 1)                 129       \n",
      "                                                                 \n",
      "=================================================================\n",
      "Total params: 128449 (501.75 KB)\n",
      "Trainable params: 128449 (501.75 KB)\n",
      "Non-trainable params: 0 (0.00 Byte)\n",
      "_________________________________________________________________\n"
     ]
    }
   ],
   "source": [
    "model.summary()"
   ]
  },
  {
   "cell_type": "markdown",
   "metadata": {},
   "source": [
    "## Get most similar words"
   ]
  },
  {
   "cell_type": "code",
   "execution_count": 20,
   "metadata": {},
   "outputs": [],
   "source": [
    "# Retrieve the embedding layer from the model\n",
    "embedding_layer = model.get_layer(\"embedding_1\")\n",
    "\n",
    "# Get the learned word embeddings\n",
    "embeddings = embedding_layer.get_weights()[0]\n",
    "\n",
    "# Calculate the pairwise cosine similarity between all word embeddings\n",
    "cosine_similarities = np.dot(embeddings, embeddings.T) / (np.linalg.norm(embeddings, axis=1) * np.linalg.norm(embeddings.T, axis=0))\n",
    "\n",
    "# Set the diagonal elements to a very low value to avoid selecting the same word\n",
    "np.fill_diagonal(cosine_similarities, -1.0)\n",
    "\n",
    "# Find the indices of the most similar pair\n",
    "most_similar_indices = np.unravel_index(np.argsort(cosine_similarities, axis=None)[-1], cosine_similarities.shape)"
   ]
  },
  {
   "cell_type": "code",
   "execution_count": 21,
   "metadata": {},
   "outputs": [
    {
     "data": {
      "text/plain": [
       "('my', 'sections')"
      ]
     },
     "execution_count": 21,
     "metadata": {},
     "output_type": "execute_result"
    }
   ],
   "source": [
    "# Retrieve the most similar pair of words\n",
    "tokenizer.index_word[most_similar_indices[0]], tokenizer.index_word[most_similar_indices[1]]"
   ]
  },
  {
   "cell_type": "code",
   "execution_count": 22,
   "metadata": {},
   "outputs": [
    {
     "data": {
      "text/plain": [
       "(7272, 8)"
      ]
     },
     "execution_count": 22,
     "metadata": {},
     "output_type": "execute_result"
    }
   ],
   "source": [
    "np.shape(embeddings)"
   ]
  },
  {
   "cell_type": "code",
   "execution_count": 23,
   "metadata": {},
   "outputs": [
    {
     "data": {
      "text/plain": [
       "array([ 0.03613682, -0.00971434,  0.02370286, -0.00311136,  0.00753672,\n",
       "       -0.03858561, -0.00422123, -0.02676945], dtype=float32)"
      ]
     },
     "execution_count": 23,
     "metadata": {},
     "output_type": "execute_result"
    }
   ],
   "source": [
    "embeddings[0]"
   ]
  },
  {
   "cell_type": "code",
   "execution_count": 24,
   "metadata": {},
   "outputs": [
    {
     "data": {
      "text/plain": [
       "array([ 0.1226817 , -0.15503135,  0.12223896,  0.1195395 , -0.0935009 ,\n",
       "       -0.15362728,  0.07021676,  0.13650054], dtype=float32)"
      ]
     },
     "execution_count": 24,
     "metadata": {},
     "output_type": "execute_result"
    }
   ],
   "source": [
    "embeddings[1]"
   ]
  },
  {
   "cell_type": "code",
   "execution_count": 25,
   "metadata": {},
   "outputs": [
    {
     "data": {
      "text/plain": [
       "(7272, 7272)"
      ]
     },
     "execution_count": 25,
     "metadata": {},
     "output_type": "execute_result"
    }
   ],
   "source": [
    "np.shape(cdist(embeddings, embeddings, metric='euclidean'))"
   ]
  },
  {
   "cell_type": "code",
   "execution_count": 26,
   "metadata": {},
   "outputs": [
    {
     "data": {
      "text/plain": [
       "(7272, 7272)"
      ]
     },
     "execution_count": 26,
     "metadata": {},
     "output_type": "execute_result"
    }
   ],
   "source": [
    "np.shape(cosine_similarities)"
   ]
  },
  {
   "cell_type": "code",
   "execution_count": null,
   "metadata": {},
   "outputs": [],
   "source": []
  }
 ],
 "metadata": {
  "kernelspec": {
   "display_name": "tf",
   "language": "python",
   "name": "python3"
  },
  "language_info": {
   "codemirror_mode": {
    "name": "ipython",
    "version": 3
   },
   "file_extension": ".py",
   "mimetype": "text/x-python",
   "name": "python",
   "nbconvert_exporter": "python",
   "pygments_lexer": "ipython3",
   "version": "3.9.17"
  }
 },
 "nbformat": 4,
 "nbformat_minor": 2
}
